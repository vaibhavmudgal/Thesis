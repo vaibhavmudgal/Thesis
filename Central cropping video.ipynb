{
 "cells": [
  {
   "cell_type": "markdown",
   "id": "b0a2100a",
   "metadata": {},
   "source": [
    "# Cropping the first quadrant video"
   ]
  },
  {
   "cell_type": "code",
   "execution_count": 13,
   "id": "4ac88610",
   "metadata": {},
   "outputs": [],
   "source": [
    "import cv2"
   ]
  },
  {
   "cell_type": "code",
   "execution_count": 14,
   "id": "1463c218",
   "metadata": {},
   "outputs": [
    {
     "name": "stdout",
     "output_type": "stream",
     "text": [
      "Video dimensions: 1440x1076\n"
     ]
    }
   ],
   "source": [
    "video_path = '/Users/vaibhavmudgal/driving_7-4-8-1-9-2-5-6-9174819256.mp4'\n",
    "cap = cv2.VideoCapture(video_path)\n",
    "\n",
    "# Check if the video capture object is opened successfully\n",
    "if not cap.isOpened():\n",
    "    print(\"Error: Could not open video file.\")\n",
    "else:\n",
    "    # Get the dimensions of the video\n",
    "    width = int(cap.get(cv2.CAP_PROP_FRAME_WIDTH))\n",
    "    height = int(cap.get(cv2.CAP_PROP_FRAME_HEIGHT))\n",
    "    \n",
    "    print(f\"Video dimensions: {width}x{height}\")\n",
    "\n",
    "    cap.release()"
   ]
  },
  {
   "cell_type": "code",
   "execution_count": 17,
   "id": "92ac7f31",
   "metadata": {},
   "outputs": [
    {
     "name": "stderr",
     "output_type": "stream",
     "text": [
      "OpenCV: FFMPEG: tag 0x44495658/'XVID' is not supported with codec id 12 and format 'mp4 / MP4 (MPEG-4 Part 14)'\n",
      "OpenCV: FFMPEG: fallback to use tag 0x7634706d/'mp4v'\n"
     ]
    }
   ],
   "source": [
    "import cv2\n",
    "\n",
    "# Load the video\n",
    "video_path = '/Users/vaibhavmudgal/driving_7-4-8-1-9-2-5-6-9174819256.mp4'\n",
    "cap = cv2.VideoCapture(video_path)\n",
    "\n",
    "# Get video dimensions\n",
    "frame_width = int(cap.get(3))\n",
    "frame_height = int(cap.get(4))\n",
    "\n",
    "# Define the coordinates for cropping (first quadrant)\n",
    "start_x = 0\n",
    "end_x = frame_width // 2\n",
    "start_y = 0\n",
    "end_y = frame_height // 2\n",
    "\n",
    "# Create a VideoWriter to save the cropped video\n",
    "output_path = 'output_cropped_video.mp4'\n",
    "fourcc = cv2.VideoWriter_fourcc(*'XVID')\n",
    "out = cv2.VideoWriter(output_path, fourcc, 30, (end_x - start_x, end_y - start_y))\n",
    "\n",
    "while cap.isOpened():\n",
    "    ret, frame = cap.read()\n",
    "    if not ret:\n",
    "        break\n",
    "    \n",
    "    # Crop the frame\n",
    "    cropped_frame = frame[start_y:end_y, start_x:end_x]\n",
    "    \n",
    "    # Write the cropped frame to the output video\n",
    "    out.write(cropped_frame)\n",
    "    \n",
    "    # Display the cropped frame (optional)\n",
    "    cv2.imshow('Cropped Video', cropped_frame)\n",
    "    \n",
    "    if cv2.waitKey(1) & 0xFF == ord('q'):\n",
    "        break\n",
    "\n",
    "# Release everything when done\n",
    "cap.release()\n",
    "out.release()\n",
    "cv2.destroyAllWindows()\n"
   ]
  },
  {
   "cell_type": "code",
   "execution_count": null,
   "id": "6059ff7a",
   "metadata": {},
   "outputs": [],
   "source": []
  },
  {
   "cell_type": "code",
   "execution_count": null,
   "id": "ed90b77f",
   "metadata": {},
   "outputs": [],
   "source": []
  },
  {
   "cell_type": "markdown",
   "id": "6db34da9",
   "metadata": {},
   "source": [
    "# Adding boxes for central cropping"
   ]
  },
  {
   "cell_type": "code",
   "execution_count": 2,
   "id": "a04f7af7",
   "metadata": {},
   "outputs": [
    {
     "name": "stderr",
     "output_type": "stream",
     "text": [
      "OpenCV: FFMPEG: tag 0x44495658/'XVID' is not supported with codec id 12 and format 'mp4 / MP4 (MPEG-4 Part 14)'\n",
      "OpenCV: FFMPEG: fallback to use tag 0x7634706d/'mp4v'\n"
     ]
    }
   ],
   "source": [
    "import cv2\n",
    "\n",
    "# Path to the input video file\n",
    "video_path = 'driving_7-4-8-1-9-2-5-6-9174819256-2.mp4'\n",
    "\n",
    "# Open the video file\n",
    "cap = cv2.VideoCapture(video_path)\n",
    "\n",
    "# Get the video frame dimensions\n",
    "frame_width = int(cap.get(3))\n",
    "frame_height = int(cap.get(4))\n",
    "\n",
    "# Calculate box sizes based on percentages\n",
    "box_sizes = [0.3, 0.5, 0.7, 0.9]\n",
    "\n",
    "# Define codec and output video file\n",
    "output_path = 'output_video_with_boxes_2.mp4'\n",
    "fourcc = cv2.VideoWriter_fourcc(*'XVID')  # You can change the codec as needed\n",
    "out = cv2.VideoWriter(output_path, fourcc, 30.0, (frame_width, frame_height))\n",
    "\n",
    "while cap.isOpened():\n",
    "    ret, frame = cap.read()\n",
    "    if not ret:\n",
    "        break\n",
    "    \n",
    "    # Draw bounding boxes with dotted lines and text labels\n",
    "    for size in box_sizes:\n",
    "        box_width = int(frame_width * size)\n",
    "        box_height = int(frame_height * size)\n",
    "        x_start = (frame_width - box_width) // 2\n",
    "        y_start = (frame_height - box_height) // 2\n",
    "        x_end = x_start + box_width\n",
    "        y_end = y_start + box_height\n",
    "        \n",
    "        # Draw dotted rectangle\n",
    "        dot_interval = 10  # Adjust the interval as needed\n",
    "        for i in range(x_start, x_end, dot_interval):\n",
    "            cv2.line(frame, (i, y_start), (i + dot_interval // 2, y_start), (0, 255, 0), 1)\n",
    "            cv2.line(frame, (i, y_end), (i + dot_interval // 2, y_end), (0, 255, 0), 1)\n",
    "        for i in range(y_start, y_end, dot_interval):\n",
    "            cv2.line(frame, (x_start, i), (x_start, i + dot_interval // 2), (0, 255, 0), 1)\n",
    "            cv2.line(frame, (x_end, i), (x_end, i + dot_interval // 2), (0, 255, 0), 1)\n",
    "        \n",
    "        # Add text label\n",
    "        label = f\"{int(size * 100)}%\"  # Convert size to percentage\n",
    "        label_x = x_start\n",
    "        label_y = y_start - 10  # Adjust the position as needed\n",
    "        cv2.putText(frame, label, (label_x, label_y), cv2.FONT_HERSHEY_SIMPLEX, 0.5, (0, 255, 0), 1)\n",
    "    \n",
    "    # Write the modified frame to the output video\n",
    "    out.write(frame)\n",
    "    \n",
    "#     # Display the frame with bounding boxes\n",
    "#     cv2.imshow('Video with Bounding Boxes', frame)\n",
    "    \n",
    "    # Exit loop if 'q' key is pressed\n",
    "    if cv2.waitKey(25) & 0xFF == ord('q'):\n",
    "        break\n",
    "\n",
    "# Release video capture, release the output video, and close windows\n",
    "cap.release()\n",
    "out.release()\n",
    "cv2.destroyAllWindows()\n"
   ]
  },
  {
   "cell_type": "code",
   "execution_count": null,
   "id": "492b3688",
   "metadata": {},
   "outputs": [],
   "source": []
  },
  {
   "cell_type": "code",
   "execution_count": null,
   "id": "649fcf6e",
   "metadata": {},
   "outputs": [],
   "source": []
  },
  {
   "cell_type": "code",
   "execution_count": null,
   "id": "22997295",
   "metadata": {},
   "outputs": [],
   "source": []
  },
  {
   "cell_type": "markdown",
   "id": "b361fc0a",
   "metadata": {},
   "source": [
    "# Morphing"
   ]
  },
  {
   "cell_type": "code",
   "execution_count": 6,
   "id": "0b9cf1c5",
   "metadata": {},
   "outputs": [
    {
     "name": "stderr",
     "output_type": "stream",
     "text": [
      "OpenCV: FFMPEG: tag 0x44495658/'XVID' is not supported with codec id 12 and format 'mp4 / MP4 (MPEG-4 Part 14)'\n",
      "OpenCV: FFMPEG: fallback to use tag 0x7634706d/'mp4v'\n"
     ]
    }
   ],
   "source": [
    "import cv2\n",
    "import numpy as np\n",
    "\n",
    "# Paths to the input videos\n",
    "video_path_1 = '/Users/vaibhavmudgal/driving_7-4-8-1-9-2-5-6-9174819256.mp4'\n",
    "video_path_2 = 'output_video_with_boxes.mp4'\n",
    "\n",
    "# Open the video files\n",
    "cap_1 = cv2.VideoCapture(video_path_1)\n",
    "cap_2 = cv2.VideoCapture(video_path_2)\n",
    "\n",
    "# Get the video frame dimensions\n",
    "frame_width = int(cap_1.get(3))\n",
    "frame_height = int(cap_1.get(4))\n",
    "\n",
    "# Define the region of interest (first quadrant)\n",
    "roi_width = frame_width // 2\n",
    "roi_height = frame_height // 2\n",
    "\n",
    "# Define codec and output video file\n",
    "output_path = 'output_morphed_video.mp4'\n",
    "fourcc = cv2.VideoWriter_fourcc(*'XVID')  # You can change the codec as needed\n",
    "out = cv2.VideoWriter(output_path, fourcc, 20.0, (frame_width, frame_height))\n",
    "\n",
    "while cap_1.isOpened() and cap_2.isOpened():\n",
    "    ret_1, frame_1 = cap_1.read()\n",
    "    ret_2, frame_2 = cap_2.read()\n",
    "    \n",
    "    if not ret_1 or not ret_2:\n",
    "        break\n",
    "    \n",
    "    # Resize the frames to match the dimensions of the first video\n",
    "    frame_2 = cv2.resize(frame_2, (roi_width, roi_height))\n",
    "    \n",
    "    # Create a blank canvas\n",
    "    morphed_frame = np.zeros((frame_height, frame_width, 3), dtype=np.uint8)\n",
    "    \n",
    "    # Fill the first quadrant with frame_2\n",
    "    morphed_frame[:roi_height, :roi_width] = frame_2\n",
    "    \n",
    "    # Fill the remaining quadrants with frame_1\n",
    "    morphed_frame[roi_height:, :roi_width] = frame_1[roi_height:, :roi_width]\n",
    "    morphed_frame[:, roi_width:] = frame_1[:, roi_width:]\n",
    "    \n",
    "    # Write the morphed frame to the output video\n",
    "    out.write(morphed_frame)\n",
    "    \n",
    "#     # Display the morphed frame\n",
    "#     cv2.imshow('Morphed Video', morphed_frame)\n",
    "    \n",
    "    # Exit loop if 'q' key is pressed\n",
    "    if cv2.waitKey(25) & 0xFF == ord('q'):\n",
    "        break\n",
    "\n",
    "# Release video captures, release the output video, and close windows\n",
    "cap_1.release()\n",
    "cap_2.release()\n",
    "out.release()\n",
    "cv2.destroyAllWindows()\n",
    "\n"
   ]
  },
  {
   "cell_type": "code",
   "execution_count": null,
   "id": "545f9a13",
   "metadata": {},
   "outputs": [],
   "source": []
  }
 ],
 "metadata": {
  "kernelspec": {
   "display_name": "Python 3 (ipykernel)",
   "language": "python",
   "name": "python3"
  },
  "language_info": {
   "codemirror_mode": {
    "name": "ipython",
    "version": 3
   },
   "file_extension": ".py",
   "mimetype": "text/x-python",
   "name": "python",
   "nbconvert_exporter": "python",
   "pygments_lexer": "ipython3",
   "version": "3.10.9"
  }
 },
 "nbformat": 4,
 "nbformat_minor": 5
}
